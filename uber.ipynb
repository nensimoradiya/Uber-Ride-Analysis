{
 "cells": [
  {
   "cell_type": "code",
   "execution_count": 1,
   "id": "67a8b370-10e8-4f2a-9785-54f0682f1370",
   "metadata": {},
   "outputs": [
    {
     "ename": "IndentationError",
     "evalue": "unexpected indent (3811727867.py, line 7)",
     "output_type": "error",
     "traceback": [
      "\u001b[1;36m  Cell \u001b[1;32mIn[1], line 7\u001b[1;36m\u001b[0m\n\u001b[1;33m    warnings.filterwarnings('ignore')\u001b[0m\n\u001b[1;37m    ^\u001b[0m\n\u001b[1;31mIndentationError\u001b[0m\u001b[1;31m:\u001b[0m unexpected indent\n"
     ]
    }
   ],
   "source": [
    "import pandas as pd\n",
    "import numpy as np\n",
    "import matplotlib.pyplot as plt\n",
    "import seaborn as sns\n",
    "from datetime import datetime\n",
    "import warnings \n",
    " warnings.filterwarnings('ignore')"
   ]
  },
  {
   "cell_type": "code",
   "execution_count": null,
   "id": "0cef30a2-3789-4cb5-96de-17cbf64ffd25",
   "metadata": {},
   "outputs": [],
   "source": [
    "df = pd.read_csv('UberDataset.csv')"
   ]
  },
  {
   "cell_type": "code",
   "execution_count": null,
   "id": "8f32c0ef-822f-4d6b-94e3-f77a84dca181",
   "metadata": {},
   "outputs": [],
   "source": [
    "print(df.head())"
   ]
  },
  {
   "cell_type": "code",
   "execution_count": null,
   "id": "4f4eac24-326b-4bb5-8221-7db5ed93b3a1",
   "metadata": {},
   "outputs": [],
   "source": [
    "print(df.info())"
   ]
  },
  {
   "cell_type": "code",
   "execution_count": null,
   "id": "c13072bc-7c98-4445-88f5-cadf9a1981e9",
   "metadata": {},
   "outputs": [],
   "source": [
    "print(df.isnull().sum())"
   ]
  },
  {
   "cell_type": "code",
   "execution_count": null,
   "id": "56dc5358-d0e3-4c5c-8a1f-fa80599b9e86",
   "metadata": {},
   "outputs": [],
   "source": [
    "df['START_DATE'] = pd.to_datetime(df['START_DATE'], errors='coerce')"
   ]
  },
  {
   "cell_type": "code",
   "execution_count": null,
   "id": "4ca87e14-f474-4acb-a0f2-dceca9d9609b",
   "metadata": {},
   "outputs": [],
   "source": [
    "df['END_DATE'] = pd.to_datetime(df['END_DATE'], errors='coerce')"
   ]
  },
  {
   "cell_type": "code",
   "execution_count": null,
   "id": "e1122090-4880-40a0-84c2-2b95c82dc2f6",
   "metadata": {},
   "outputs": [],
   "source": [
    "df.info()"
   ]
  },
  {
   "cell_type": "code",
   "execution_count": null,
   "id": "6adf8a1f-d9d0-40d1-9c07-0c1448d03999",
   "metadata": {},
   "outputs": [],
   "source": [
    "df['date'] = pd.DatetimeIndex(df['START_DATE']).date\n",
    "df['time'] = pd.DatetimeIndex(df['START_DATE']).hour\n",
    "\n",
    "df['day-night'] = pd.cut(x=df['time'],\n",
    "                              bins = [0,10,15,19,24],\n",
    "                              labels = ['Morning','Afternoon','Evening','Night'])"
   ]
  },
  {
   "cell_type": "code",
   "execution_count": null,
   "id": "b71404c0-1e33-42b0-804d-31a686696a1c",
   "metadata": {},
   "outputs": [],
   "source": [
    "df['PURPOSE'].fillna(\"NOT\", inplace=True)"
   ]
  },
  {
   "cell_type": "code",
   "execution_count": null,
   "id": "8c3b8427-bd95-4981-8ca6-1a1324b74238",
   "metadata": {},
   "outputs": [],
   "source": [
    "df.dropna(inplace=True)\n",
    "df.drop_duplicates(inplace=True)"
   ]
  },
  {
   "cell_type": "code",
   "execution_count": null,
   "id": "6c8d24e5-71cb-4a40-9fdb-085e68941df1",
   "metadata": {},
   "outputs": [],
   "source": [
    "df.isnull().sum()"
   ]
  },
  {
   "cell_type": "code",
   "execution_count": null,
   "id": "93ba1f06-d609-44d6-9469-c5c122e968d9",
   "metadata": {},
   "outputs": [],
   "source": [
    "\n",
    "sns.countplot(df['CATEGORY'])"
   ]
  },
  {
   "cell_type": "code",
   "execution_count": null,
   "id": "7ca81967-e52a-4fbe-9fea-2ac7ffb9e924",
   "metadata": {},
   "outputs": [],
   "source": [
    "sns.countplot(df['PURPOSE'])\n",
    "plt.xticks(rotation=90)"
   ]
  },
  {
   "cell_type": "code",
   "execution_count": null,
   "id": "dd3a59a2-f62a-4cdb-bf6f-3821653bf12a",
   "metadata": {},
   "outputs": [],
   "source": [
    "sns.countplot(df['day-night'])\n",
    "plt.xticks(rotation=90)"
   ]
  },
  {
   "cell_type": "code",
   "execution_count": null,
   "id": "2eca55e8-c9ed-432d-b638-3df815512a26",
   "metadata": {},
   "outputs": [],
   "source": [
    "plt.figure(figsize=(15, 5))\n",
    "sns.countplot(data=df, x='PURPOSE', hue='CATEGORY')\n",
    "plt.xticks(rotation=90)\n",
    "plt.show()"
   ]
  },
  {
   "cell_type": "code",
   "execution_count": null,
   "id": "941b163a-3552-4c83-882d-82c2ec811c93",
   "metadata": {},
   "outputs": [],
   "source": [
    "df['Hour'] = df['START_DATE'].dt.hour\n",
    "df['Weekday'] = df['START_DATE'].dt.day_name()"
   ]
  },
  {
   "cell_type": "code",
   "execution_count": null,
   "id": "0fbfa21c-59b7-409d-b1bc-9f9ea3bf8e3c",
   "metadata": {},
   "outputs": [],
   "source": [
    "heatmap_data = df.groupby(['Weekday', 'Hour']).size().unstack()"
   ]
  },
  {
   "cell_type": "code",
   "execution_count": null,
   "id": "1b0c0b04-d65d-4e24-b69e-ddeab33507e2",
   "metadata": {},
   "outputs": [],
   "source": [
    "ordered_days = ['Monday', 'Tuesday', 'Wednesday', 'Thursday', 'Friday', 'Saturday', 'Sunday']\n",
    "heatmap_data = heatmap_data.reindex(ordered_days)"
   ]
  },
  {
   "cell_type": "code",
   "execution_count": null,
   "id": "f415a8f5-1bf7-4bdd-a9ad-b0c70d0b4d07",
   "metadata": {},
   "outputs": [],
   "source": [
    "plt.figure(figsize=(12, 6))\n",
    "sns.heatmap(heatmap_data, cmap='YlGnBu', annot=True, fmt='d')\n",
    "plt.title('Uber Trips Heatmap: Weekday vs Hour')\n",
    "plt.xlabel('Hour of the Day')\n",
    "plt.ylabel('Day of the Week')\n",
    "plt.show()"
   ]
  },
  {
   "cell_type": "code",
   "execution_count": null,
   "id": "92962c7a-8ee3-4ddd-a7e6-6d36c2100089",
   "metadata": {},
   "outputs": [],
   "source": []
  }
 ],
 "metadata": {
  "kernelspec": {
   "display_name": "Python 3 (ipykernel)",
   "language": "python",
   "name": "python3"
  },
  "language_info": {
   "codemirror_mode": {
    "name": "ipython",
    "version": 3
   },
   "file_extension": ".py",
   "mimetype": "text/x-python",
   "name": "python",
   "nbconvert_exporter": "python",
   "pygments_lexer": "ipython3",
   "version": "3.12.4"
  }
 },
 "nbformat": 4,
 "nbformat_minor": 5
}
